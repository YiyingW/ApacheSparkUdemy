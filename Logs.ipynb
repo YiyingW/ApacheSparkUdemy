{
 "cells": [
  {
   "cell_type": "code",
   "execution_count": 1,
   "metadata": {
    "collapsed": true
   },
   "outputs": [],
   "source": [
    "logsPath = \"../data/hbase.log\""
   ]
  },
  {
   "cell_type": "code",
   "execution_count": 2,
   "metadata": {
    "collapsed": true
   },
   "outputs": [],
   "source": [
    "logs = sc.textFile(logsPath)"
   ]
  },
  {
   "cell_type": "code",
   "execution_count": 4,
   "metadata": {
    "collapsed": false
   },
   "outputs": [
    {
     "data": {
      "text/plain": [
       "[u'2016-06-08 12:50:51,781 ERROR [main] zookeeper.RecoverableZooKeeper: ZooKeeper exists failed after 4 attempts',\n",
       " u'2016-06-08 12:50:51,782 ERROR [main] zookeeper.ZooKeeperWatcher: regionserver:162010x0, quorum=localhost:2181, baseZNode=/hbase Received unexpected KeeperException, re-throwing exception',\n",
       " u'2016-06-08 12:51:08,703 ERROR [main] zookeeper.RecoverableZooKeeper: ZooKeeper exists failed after 4 attempts']"
      ]
     },
     "execution_count": 4,
     "metadata": {},
     "output_type": "execute_result"
    }
   ],
   "source": [
    "logs.filter(lambda x: 'ERROR' in x).take(3)"
   ]
  },
  {
   "cell_type": "code",
   "execution_count": 5,
   "metadata": {
    "collapsed": true
   },
   "outputs": [],
   "source": [
    "errCount=sc.accumulator(0)"
   ]
  },
  {
   "cell_type": "code",
   "execution_count": 6,
   "metadata": {
    "collapsed": true
   },
   "outputs": [],
   "source": [
    "def processLog(line):\n",
    "    global errCount\n",
    "    dateField=line[:24]\n",
    "    logField=line[24:]\n",
    "    \n",
    "    if \"ERROR\" in line:\n",
    "        errCount += 1\n",
    "    return (dateField, logField)"
   ]
  },
  {
   "cell_type": "code",
   "execution_count": 7,
   "metadata": {
    "collapsed": true
   },
   "outputs": [],
   "source": [
    "logs.map(processLog).saveAsTextFile(\"../data/parsedLog.txt\")"
   ]
  },
  {
   "cell_type": "code",
   "execution_count": 8,
   "metadata": {
    "collapsed": false
   },
   "outputs": [
    {
     "data": {
      "text/plain": [
       "15"
      ]
     },
     "execution_count": 8,
     "metadata": {},
     "output_type": "execute_result"
    }
   ],
   "source": [
    "errCount.value"
   ]
  },
  {
   "cell_type": "code",
   "execution_count": null,
   "metadata": {
    "collapsed": true
   },
   "outputs": [],
   "source": []
  }
 ],
 "metadata": {
  "kernelspec": {
   "display_name": "Python 2",
   "language": "python",
   "name": "python2"
  },
  "language_info": {
   "codemirror_mode": {
    "name": "ipython",
    "version": 2
   },
   "file_extension": ".py",
   "mimetype": "text/x-python",
   "name": "python",
   "nbconvert_exporter": "python",
   "pygments_lexer": "ipython2",
   "version": "2.7.12"
  }
 },
 "nbformat": 4,
 "nbformat_minor": 1
}
