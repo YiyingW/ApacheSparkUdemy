{
 "cells": [
  {
   "cell_type": "code",
   "execution_count": 1,
   "metadata": {
    "collapsed": false
   },
   "outputs": [
    {
     "data": {
      "text/plain": [
       "<pyspark.context.SparkContext at 0x1094d5fd0>"
      ]
     },
     "execution_count": 1,
     "metadata": {},
     "output_type": "execute_result"
    }
   ],
   "source": [
    "sc"
   ]
  },
  {
   "cell_type": "code",
   "execution_count": 1,
   "metadata": {
    "collapsed": true
   },
   "outputs": [],
   "source": [
    "# set up the file paths for your data\n",
    "airlinesPath='file:///Users/yiyingwang/desktop/ApacheSpark/udemy/data/airlines.csv'\n",
    "airportsPath='file:///Users/yiyingwang/desktop/ApacheSpark/udemy/data/airports.csv'\n",
    "flightsPath='file:///Users/yiyingwang/desktop/ApacheSpark/udemy/data/flights.csv'"
   ]
  },
  {
   "cell_type": "code",
   "execution_count": null,
   "metadata": {
    "collapsed": true
   },
   "outputs": [],
   "source": [
    "airlines=sc.textFile(airlinesPath)"
   ]
  },
  {
   "cell_type": "code",
   "execution_count": null,
   "metadata": {
    "collapsed": false
   },
   "outputs": [],
   "source": [
    "# airlines is an RDD\n",
    "print airlines"
   ]
  },
  {
   "cell_type": "code",
   "execution_count": null,
   "metadata": {
    "collapsed": true
   },
   "outputs": [],
   "source": [
    "# use the collect operation\n",
    "airlines.collect()"
   ]
  },
  {
   "cell_type": "code",
   "execution_count": null,
   "metadata": {
    "collapsed": false
   },
   "outputs": [],
   "source": [
    "airlines.first()"
   ]
  },
  {
   "cell_type": "code",
   "execution_count": null,
   "metadata": {
    "collapsed": true
   },
   "outputs": [],
   "source": [
    "airlines.take(10)"
   ]
  },
  {
   "cell_type": "code",
   "execution_count": null,
   "metadata": {
    "collapsed": false
   },
   "outputs": [],
   "source": [
    "airlines.count()"
   ]
  },
  {
   "cell_type": "code",
   "execution_count": null,
   "metadata": {
    "collapsed": true
   },
   "outputs": [],
   "source": [
    "# filter out the header \n",
    "airlinesWoHeader = airlines.filter(lambda x: \"Description\" not in x)"
   ]
  },
  {
   "cell_type": "code",
   "execution_count": null,
   "metadata": {
    "collapsed": false
   },
   "outputs": [],
   "source": [
    "print airlinesWoHeader"
   ]
  },
  {
   "cell_type": "code",
   "execution_count": null,
   "metadata": {
    "collapsed": true
   },
   "outputs": [],
   "source": [
    "airlinesWoHeader.take(10)"
   ]
  },
  {
   "cell_type": "code",
   "execution_count": null,
   "metadata": {
    "collapsed": true
   },
   "outputs": [],
   "source": [
    "airlinesPared=airlinesWoHeader.map(lambda x: x.split(\",\")).take(10)"
   ]
  },
  {
   "cell_type": "code",
   "execution_count": null,
   "metadata": {
    "collapsed": false
   },
   "outputs": [],
   "source": [
    "airlinesPared"
   ]
  },
  {
   "cell_type": "code",
   "execution_count": null,
   "metadata": {
    "collapsed": false
   },
   "outputs": [],
   "source": [
    "airlines.map(len).take(10)"
   ]
  },
  {
   "cell_type": "code",
   "execution_count": 16,
   "metadata": {
    "collapsed": true
   },
   "outputs": [],
   "source": [
    "def notHeader(row):\n",
    "    return \"Description\" not in row"
   ]
  },
  {
   "cell_type": "code",
   "execution_count": null,
   "metadata": {
    "collapsed": false
   },
   "outputs": [],
   "source": [
    "airlines.filter(notHeader).take(10)"
   ]
  },
  {
   "cell_type": "code",
   "execution_count": null,
   "metadata": {
    "collapsed": false
   },
   "outputs": [],
   "source": [
    "# chain transformation together\n",
    "airlines.filter(notHeader) \\\n",
    "    .map(lambda x: x.split(\",\")) \\\n",
    "    .take(10)\n"
   ]
  },
  {
   "cell_type": "code",
   "execution_count": null,
   "metadata": {
    "collapsed": false
   },
   "outputs": [],
   "source": [
    "# use python libraries\n",
    "import csv\n",
    "from StringIO import StringIO\n",
    "\n",
    "def split(line):\n",
    "    reader = csv.reader(StringIO(line))\n",
    "    return reader.next()\n",
    "\n",
    "airlines.filter(notHeader).map(split).take(10)"
   ]
  },
  {
   "cell_type": "code",
   "execution_count": 2,
   "metadata": {
    "collapsed": false
   },
   "outputs": [],
   "source": [
    "flights=sc.textFile(flightsPath)"
   ]
  },
  {
   "cell_type": "code",
   "execution_count": null,
   "metadata": {
    "collapsed": false
   },
   "outputs": [],
   "source": [
    "flights.count()"
   ]
  },
  {
   "cell_type": "code",
   "execution_count": null,
   "metadata": {
    "collapsed": false
   },
   "outputs": [],
   "source": [
    "flights.take(10)\n",
    "# flight date, airline code, flight num, source airport, destination airport, departure time, departure delay,\n",
    "# arrival time, arrival delay, airtime, distance"
   ]
  },
  {
   "cell_type": "code",
   "execution_count": null,
   "metadata": {
    "collapsed": true
   },
   "outputs": [],
   "source": [
    "# parse each row into a list\n",
    "flightsParsed = flights.map(lambda x: x.split(','))"
   ]
  },
  {
   "cell_type": "code",
   "execution_count": 3,
   "metadata": {
    "collapsed": false
   },
   "outputs": [
    {
     "name": "stdout",
     "output_type": "stream",
     "text": [
      "class Flight(tuple):\n",
      "    'Flight(date, airline, flightnum, origin, dest, dep, dep_delay, arv, arv_delay, airtime, distance)'\n",
      "\n",
      "    __slots__ = ()\n",
      "\n",
      "    _fields = ('date', 'airline', 'flightnum', 'origin', 'dest', 'dep', 'dep_delay', 'arv', 'arv_delay', 'airtime', 'distance')\n",
      "\n",
      "    def __new__(_cls, date, airline, flightnum, origin, dest, dep, dep_delay, arv, arv_delay, airtime, distance):\n",
      "        'Create new instance of Flight(date, airline, flightnum, origin, dest, dep, dep_delay, arv, arv_delay, airtime, distance)'\n",
      "        return _tuple.__new__(_cls, (date, airline, flightnum, origin, dest, dep, dep_delay, arv, arv_delay, airtime, distance))\n",
      "\n",
      "    @classmethod\n",
      "    def _make(cls, iterable, new=tuple.__new__, len=len):\n",
      "        'Make a new Flight object from a sequence or iterable'\n",
      "        result = new(cls, iterable)\n",
      "        if len(result) != 11:\n",
      "            raise TypeError('Expected 11 arguments, got %d' % len(result))\n",
      "        return result\n",
      "\n",
      "    def __repr__(self):\n",
      "        'Return a nicely formatted representation string'\n",
      "        return 'Flight(date=%r, airline=%r, flightnum=%r, origin=%r, dest=%r, dep=%r, dep_delay=%r, arv=%r, arv_delay=%r, airtime=%r, distance=%r)' % self\n",
      "\n",
      "    def _asdict(self):\n",
      "        'Return a new OrderedDict which maps field names to their values'\n",
      "        return OrderedDict(zip(self._fields, self))\n",
      "\n",
      "    def _replace(_self, **kwds):\n",
      "        'Return a new Flight object replacing specified fields with new values'\n",
      "        result = _self._make(map(kwds.pop, ('date', 'airline', 'flightnum', 'origin', 'dest', 'dep', 'dep_delay', 'arv', 'arv_delay', 'airtime', 'distance'), _self))\n",
      "        if kwds:\n",
      "            raise ValueError('Got unexpected field names: %r' % kwds.keys())\n",
      "        return result\n",
      "\n",
      "    def __getnewargs__(self):\n",
      "        'Return self as a plain tuple.  Used by copy and pickle.'\n",
      "        return tuple(self)\n",
      "\n",
      "    __dict__ = _property(_asdict)\n",
      "\n",
      "    def __getstate__(self):\n",
      "        'Exclude the OrderedDict from pickling'\n",
      "        pass\n",
      "\n",
      "    date = _property(_itemgetter(0), doc='Alias for field number 0')\n",
      "\n",
      "    airline = _property(_itemgetter(1), doc='Alias for field number 1')\n",
      "\n",
      "    flightnum = _property(_itemgetter(2), doc='Alias for field number 2')\n",
      "\n",
      "    origin = _property(_itemgetter(3), doc='Alias for field number 3')\n",
      "\n",
      "    dest = _property(_itemgetter(4), doc='Alias for field number 4')\n",
      "\n",
      "    dep = _property(_itemgetter(5), doc='Alias for field number 5')\n",
      "\n",
      "    dep_delay = _property(_itemgetter(6), doc='Alias for field number 6')\n",
      "\n",
      "    arv = _property(_itemgetter(7), doc='Alias for field number 7')\n",
      "\n",
      "    arv_delay = _property(_itemgetter(8), doc='Alias for field number 8')\n",
      "\n",
      "    airtime = _property(_itemgetter(9), doc='Alias for field number 9')\n",
      "\n",
      "    distance = _property(_itemgetter(10), doc='Alias for field number 10')\n",
      "\n",
      "\n"
     ]
    }
   ],
   "source": [
    "# set things up to reference these columns by name\n",
    "# convert these fields to relevant data types from string\n",
    "# set up a class to represent 1 record\n",
    "# convert each list in flightsParsed to this class\n",
    "\n",
    "from datetime import datetime\n",
    "from collections import namedtuple\n",
    "\n",
    "fields = ('date', 'airline', 'flightnum', 'origin', 'dest', 'dep', 'dep_delay',\n",
    "         'arv', 'arv_delay', 'airtime', 'distance')\n",
    "Flight = namedtuple('Flight', fields, verbose=True)  # use namedtuple to manufacture a class, factory functions \n",
    "DATE_FMT = \"%Y-%m-%d\"\n",
    "TIME_FMT = \"%H%M\"\n",
    "\n",
    "def parse(row): # parse the row list and return a Flight object\n",
    "    row[0] = datetime.strptime(row[0], DATE_FMT).date()\n",
    "    row[5] = datetime.strptime(row[5], TIME_FMT).time()\n",
    "    row[6] = float(row[6])\n",
    "    row[7] = datetime.strptime(row[7], TIME_FMT).time()\n",
    "    row[8] = float(row[8])\n",
    "    row[9] = float(row[9])\n",
    "    row[10] = float(row[10])\n",
    "    return Flight(*row[:11])"
   ]
  },
  {
   "cell_type": "code",
   "execution_count": 4,
   "metadata": {
    "collapsed": true
   },
   "outputs": [],
   "source": [
    "# process each row in the dataset\n",
    "flightsParsed = flights.map(lambda x: x.split(\",\")).map(parse) # a copy of the function is sent to each node\n",
    "# such functions are called closure functions. Spark is built on Scala, which supports the use of closure functions"
   ]
  },
  {
   "cell_type": "code",
   "execution_count": null,
   "metadata": {
    "collapsed": false
   },
   "outputs": [],
   "source": [
    "flightsParsed.first()"
   ]
  },
  {
   "cell_type": "code",
   "execution_count": null,
   "metadata": {
    "collapsed": false
   },
   "outputs": [],
   "source": [
    "# we can access the values in the Flight object using the field name\n",
    "flightsParsed.map(lambda x: x.distance).first()"
   ]
  },
  {
   "cell_type": "markdown",
   "metadata": {},
   "source": [
    "# Compute the average distance travelled by a flight"
   ]
  },
  {
   "cell_type": "code",
   "execution_count": null,
   "metadata": {
    "collapsed": false
   },
   "outputs": [],
   "source": [
    "# compute the total distance travelled by all flights \n",
    "totalDistance = flightsParsed.map(lambda x: x.distance).reduce(lambda x,y: x+y)\n",
    "# reduce takes a function that acts on two elements and returns an object of the same type\n",
    "avgDistance = totalDistance/flightsParsed.count()\n",
    "print avgDistance"
   ]
  },
  {
   "cell_type": "markdown",
   "metadata": {},
   "source": [
    "# Compute the % of flights which had delays"
   ]
  },
  {
   "cell_type": "code",
   "execution_count": 7,
   "metadata": {
    "collapsed": false
   },
   "outputs": [
    {
     "data": {
      "text/plain": [
       "0.3753871510922012"
      ]
     },
     "execution_count": 7,
     "metadata": {},
     "output_type": "execute_result"
    }
   ],
   "source": [
    "# counting the number of flights with delays\n",
    "flightsParsed.filter(lambda x: x.dep_delay>0).count()/float(flightsParsed.count())"
   ]
  },
  {
   "cell_type": "code",
   "execution_count": 6,
   "metadata": {
    "collapsed": false
   },
   "outputs": [
    {
     "data": {
      "text/plain": [
       "PythonRDD[2] at RDD at PythonRDD.scala:43"
      ]
     },
     "execution_count": 6,
     "metadata": {},
     "output_type": "execute_result"
    }
   ],
   "source": [
    "# most of computations need flightsParsed RDD\n",
    "flightsParsed.persist()\n",
    "# flightsParsed.unpersist()"
   ]
  },
  {
   "cell_type": "markdown",
   "metadata": {},
   "source": [
    "# Compute the average delay"
   ]
  },
  {
   "cell_type": "code",
   "execution_count": 9,
   "metadata": {
    "collapsed": false
   },
   "outputs": [],
   "source": [
    "# aggregate used to combine multiple actions\n",
    "sumCount=flightsParsed.map(lambda x:x.dep_delay).aggregate((0,0), # start from zero value\n",
    "                                                           (lambda acc, value: (acc[0]+value, acc[1]+1)), # each node\n",
    "                                                           (lambda acc1, acc2: (acc1[0]+acc2[0], acc1[1]+acc2[1]))) \n",
    "                                                            # use on result of each node"
   ]
  },
  {
   "cell_type": "code",
   "execution_count": 11,
   "metadata": {
    "collapsed": false
   },
   "outputs": [
    {
     "data": {
      "text/plain": [
       "8.313877046894298"
      ]
     },
     "execution_count": 11,
     "metadata": {},
     "output_type": "execute_result"
    }
   ],
   "source": [
    "sumCount[0]/sumCount[1]"
   ]
  },
  {
   "cell_type": "markdown",
   "metadata": {},
   "source": [
    "# Compute frequency distribution of delays"
   ]
  },
  {
   "cell_type": "code",
   "execution_count": 12,
   "metadata": {
    "collapsed": false
   },
   "outputs": [
    {
     "data": {
      "text/plain": [
       "defaultdict(int,\n",
       "            {0: 452963,\n",
       "             1: 16016,\n",
       "             2: 4893,\n",
       "             3: 1729,\n",
       "             4: 701,\n",
       "             5: 249,\n",
       "             6: 113,\n",
       "             7: 66,\n",
       "             8: 43,\n",
       "             9: 26,\n",
       "             10: 15,\n",
       "             11: 12,\n",
       "             12: 9,\n",
       "             13: 15,\n",
       "             14: 13,\n",
       "             15: 4,\n",
       "             17: 2,\n",
       "             20: 4,\n",
       "             21: 3,\n",
       "             24: 3,\n",
       "             25: 1,\n",
       "             28: 1})"
      ]
     },
     "execution_count": 12,
     "metadata": {},
     "output_type": "execute_result"
    }
   ],
   "source": [
    "# how many flights delay in 0-1 hrs, 1-2 hrs, 2-3 hrs, ...\n",
    "flightsParsed.map(lambda x: int(x.dep_delay/60)).countByValue()"
   ]
  },
  {
   "cell_type": "markdown",
   "metadata": {
    "collapsed": true
   },
   "source": [
    "# Compute average delay per airport"
   ]
  },
  {
   "cell_type": "code",
   "execution_count": 5,
   "metadata": {
    "collapsed": true
   },
   "outputs": [],
   "source": [
    "# create a pair RDD with origin airport and delay for each flight\n",
    "airportDelays = flightsParsed.map(lambda x: (x.origin, x.dep_delay))"
   ]
  },
  {
   "cell_type": "code",
   "execution_count": 6,
   "metadata": {
    "collapsed": false
   },
   "outputs": [
    {
     "data": {
      "text/plain": [
       "[u'JFK', u'LAX', u'JFK']"
      ]
     },
     "execution_count": 6,
     "metadata": {},
     "output_type": "execute_result"
    }
   ],
   "source": [
    "airportDelays.keys().take(3)"
   ]
  },
  {
   "cell_type": "code",
   "execution_count": 8,
   "metadata": {
    "collapsed": true
   },
   "outputs": [],
   "source": [
    "airportTotalDelay = airportDelays.reduceByKey(lambda x,y:x+y)"
   ]
  },
  {
   "cell_type": "code",
   "execution_count": 9,
   "metadata": {
    "collapsed": true
   },
   "outputs": [],
   "source": [
    "airportCount = airportDelays.mapValues(lambda x:1).reduceByKey(lambda x, y:x+y)"
   ]
  },
  {
   "cell_type": "code",
   "execution_count": 10,
   "metadata": {
    "collapsed": true
   },
   "outputs": [],
   "source": [
    "airportSumCount = airportTotalDelay.join(airportCount)"
   ]
  },
  {
   "cell_type": "code",
   "execution_count": 11,
   "metadata": {
    "collapsed": true
   },
   "outputs": [],
   "source": [
    "airportAvgDelay = airportSumCount.mapValues(lambda x: x[0]/float(x[1]))"
   ]
  },
  {
   "cell_type": "code",
   "execution_count": 12,
   "metadata": {
    "collapsed": false
   },
   "outputs": [
    {
     "data": {
      "text/plain": [
       "[(u'JFK', 6.997397769516729),\n",
       " (u'MIA', 3.820501853435985),\n",
       " (u'LIH', -0.9607623318385651),\n",
       " (u'LIT', 9.96943972835314),\n",
       " (u'CLT', 8.066368381804624)]"
      ]
     },
     "execution_count": 12,
     "metadata": {},
     "output_type": "execute_result"
    }
   ],
   "source": [
    "airportAvgDelay.take(5)"
   ]
  },
  {
   "cell_type": "code",
   "execution_count": 13,
   "metadata": {
    "collapsed": true
   },
   "outputs": [],
   "source": [
    "airportSumCount2=airportDelays.combineByKey((lambda value:(value, 1)),\n",
    "                                            (lambda acc, value: (acc[0]+value, acc[1]+1)),\n",
    "                                            (lambda acc1, acc2: (acc1[0]+acc2[0], acc1[1]+acc2[1]))\n",
    "                                            )"
   ]
  },
  {
   "cell_type": "markdown",
   "metadata": {},
   "source": [
    "# the top 10 airports based on delay"
   ]
  },
  {
   "cell_type": "code",
   "execution_count": 15,
   "metadata": {
    "collapsed": false
   },
   "outputs": [
    {
     "data": {
      "text/plain": [
       "[(u'PPG', 56.25),\n",
       " (u'EGE', 32.0),\n",
       " (u'OTH', 24.533333333333335),\n",
       " (u'LAR', 18.892857142857142),\n",
       " (u'RDD', 18.55294117647059),\n",
       " (u'MTJ', 18.363636363636363),\n",
       " (u'PUB', 17.54),\n",
       " (u'EWR', 16.478549005929544),\n",
       " (u'CIC', 15.931034482758621),\n",
       " (u'RST', 15.6993006993007)]"
      ]
     },
     "execution_count": 15,
     "metadata": {},
     "output_type": "execute_result"
    }
   ],
   "source": [
    "# sort airportAvgDelay in descending order\n",
    "airportAvgDelay.sortBy(lambda x: -x[1]).take(10)"
   ]
  },
  {
   "cell_type": "code",
   "execution_count": 17,
   "metadata": {
    "collapsed": true
   },
   "outputs": [],
   "source": [
    "import csv\n",
    "from StringIO import StringIO\n",
    "\n",
    "def split(line):\n",
    "    reader = csv.reader(StringIO(line))\n",
    "    return reader.next()\n",
    "\n",
    "def notHeader(row):\n",
    "    return \"Description\" not in row\n",
    "\n",
    "airports = sc.textFile(airportsPath).filter(notHeader).map(split)"
   ]
  },
  {
   "cell_type": "code",
   "execution_count": 18,
   "metadata": {
    "collapsed": false
   },
   "outputs": [
    {
     "data": {
      "text/plain": [
       "['Pago Pago, TT: Pago Pago International']"
      ]
     },
     "execution_count": 18,
     "metadata": {},
     "output_type": "execute_result"
    }
   ],
   "source": [
    "# lookup action used to pair RDDs\n",
    "airports.lookup('PPG')"
   ]
  },
  {
   "cell_type": "code",
   "execution_count": 19,
   "metadata": {
    "collapsed": true
   },
   "outputs": [],
   "source": [
    "# dictionary\n",
    "# we can build a map with all airports from the RDD and use that, collectAsMap is an action\n",
    "airportLookup=airports.collectAsMap()"
   ]
  },
  {
   "cell_type": "code",
   "execution_count": 20,
   "metadata": {
    "collapsed": false
   },
   "outputs": [
    {
     "data": {
      "text/plain": [
       "[('New York, NY: John F. Kennedy International', 6.997397769516729),\n",
       " ('Miami, FL: Miami International', 3.820501853435985),\n",
       " ('Lihue, HI: Lihue Airport', -0.9607623318385651),\n",
       " ('Little Rock, AR: Bill and Hillary Clinton Nat Adams Field',\n",
       "  9.96943972835314),\n",
       " ('Charlotte, NC: Charlotte Douglas International', 8.066368381804624)]"
      ]
     },
     "execution_count": 20,
     "metadata": {},
     "output_type": "execute_result"
    }
   ],
   "source": [
    "airportAvgDelay.map(lambda x: (airportLookup[x[0]], x[1])).take(5)"
   ]
  },
  {
   "cell_type": "code",
   "execution_count": 21,
   "metadata": {
    "collapsed": false
   },
   "outputs": [
    {
     "data": {
      "text/plain": [
       "[('Pago Pago, TT: Pago Pago International', 56.25),\n",
       " ('Eagle, CO: Eagle County Regional', 32.0),\n",
       " ('North Bend/Coos Bay, OR: Southwest Oregon Regional', 24.533333333333335),\n",
       " ('Laramie, WY: Laramie Regional', 18.892857142857142),\n",
       " ('Redding, CA: Redding Municipal', 18.55294117647059),\n",
       " ('Montrose/Delta, CO: Montrose Regional', 18.363636363636363),\n",
       " ('Pueblo, CO: Pueblo Memorial', 17.54),\n",
       " ('Newark, NJ: Newark Liberty International', 16.478549005929544),\n",
       " ('Chico, CA: Chico Municipal', 15.931034482758621),\n",
       " ('Rochester, MN: Rochester International', 15.6993006993007)]"
      ]
     },
     "execution_count": 21,
     "metadata": {},
     "output_type": "execute_result"
    }
   ],
   "source": [
    "airportAvgDelay.sortBy(lambda x: -x[1]).map(lambda x: (airportLookup[x[0]], x[1])).take(10)"
   ]
  },
  {
   "cell_type": "code",
   "execution_count": null,
   "metadata": {
    "collapsed": true
   },
   "outputs": [],
   "source": [
    "# a copy of airportLookup variable is carried over to each node in the cluster\n",
    "# sometimes, we might need to use a variable for many operations, what if we can cache this variable on each of the\n",
    "# node  -- > broadcast variable\n",
    "# 1. immutable 2. distributed 3. in-memory\n",
    "airportBC = sc.broadcast(airportLookup)\n"
   ]
  }
 ],
 "metadata": {
  "kernelspec": {
   "display_name": "Python 2",
   "language": "python",
   "name": "python2"
  },
  "language_info": {
   "codemirror_mode": {
    "name": "ipython",
    "version": 2
   },
   "file_extension": ".py",
   "mimetype": "text/x-python",
   "name": "python",
   "nbconvert_exporter": "python",
   "pygments_lexer": "ipython2",
   "version": "2.7.12"
  }
 },
 "nbformat": 4,
 "nbformat_minor": 1
}
